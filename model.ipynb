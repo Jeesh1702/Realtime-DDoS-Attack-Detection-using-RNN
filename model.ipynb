{
 "cells": [
  {
   "cell_type": "markdown",
   "metadata": {},
   "source": [
    "<center><h1>Realtime DDoS Attack-Detection using RNN</h1></center>\n"
   ]
  },
  {
   "cell_type": "markdown",
   "metadata": {},
   "source": [
    "<h2>Importing Libraries</h2>"
   ]
  },
  {
   "cell_type": "code",
   "execution_count": 1,
   "metadata": {
    "colab": {},
    "colab_type": "code",
    "id": "1fJk7zmMjcFm"
   },
   "outputs": [],
   "source": [
    "import numpy as np\n",
    "import pandas as pd\n",
    "import matplotlib.pyplot as plt\n",
    "import seaborn as sns; sns.set()"
   ]
  },
  {
   "cell_type": "code",
   "execution_count": 2,
   "metadata": {
    "colab": {},
    "colab_type": "code",
    "id": "MOKVbdzBjlmP"
   },
   "outputs": [],
   "source": [
    "from keras.models import Sequential, load_model\n",
    "from keras.layers import Dense, LSTM, Bidirectional, GRU, Flatten\n",
    "from keras.utils import plot_model\n",
    "from sklearn.model_selection import train_test_split\n",
    "from sklearn.preprocessing import StandardScaler\n",
    "from sklearn.metrics import confusion_matrix"
   ]
  },
  {
   "cell_type": "code",
   "execution_count": 3,
   "metadata": {
    "colab": {},
    "colab_type": "code",
    "id": "u7H2jNs1csN2"
   },
   "outputs": [],
   "source": [
    "number_of_samples = 50000 #determine how many samples from the attack and normal dataset should be read and used."
   ]
  },
  {
   "cell_type": "markdown",
   "metadata": {},
   "source": [
    "<h2>Data Gathering</h2>"
   ]
  },
  {
   "cell_type": "code",
   "execution_count": 4,
   "metadata": {
    "colab": {},
    "colab_type": "code",
    "id": "WkSbWhYPjpdP"
   },
   "outputs": [],
   "source": [
    "data_attack = pd.read_csv('./dataset/dataset_attack.csv', nrows = number_of_samples)"
   ]
  },
  {
   "cell_type": "code",
   "execution_count": 5,
   "metadata": {
    "colab": {},
    "colab_type": "code",
    "id": "MlnVmtsDj0Af"
   },
   "outputs": [],
   "source": [
    "data_normal = pd.read_csv('./dataset/dataset_normal.csv', nrows = number_of_samples)"
   ]
  },
  {
   "cell_type": "markdown",
   "metadata": {},
   "source": [
    "<h2>Data preprocessing</h2>"
   ]
  },
  {
   "cell_type": "code",
   "execution_count": 6,
   "metadata": {
    "colab": {},
    "colab_type": "code",
    "id": "kMoOG1gDj1eJ"
   },
   "outputs": [],
   "source": [
    "data_normal.columns=[ 'frame.len', 'frame.protocols', 'ip.hdr_len',\n",
    "       'ip.len', 'ip.flags.rb', 'ip.flags.df', 'ip.flags.mf', 'ip.frag_offset',\n",
    "       'ip.ttl', 'ip.proto', 'ip.src', 'ip.dst', 'tcp.srcport', 'tcp.dstport',\n",
    "       'tcp.len', 'tcp.ack', 'tcp.flags.res', 'tcp.flags.ns', 'tcp.flags.cwr',\n",
    "       'tcp.flags.ecn', 'tcp.flags.urg', 'tcp.flags.ack', 'tcp.flags.push',\n",
    "       'tcp.flags.reset', 'tcp.flags.syn', 'tcp.flags.fin', 'tcp.window_size',\n",
    "       'tcp.time_delta','class']\n",
    "data_attack.columns=[ 'frame.len', 'frame.protocols', 'ip.hdr_len',\n",
    "       'ip.len', 'ip.flags.rb', 'ip.flags.df', 'ip.flags.mf', 'ip.frag_offset',\n",
    "       'ip.ttl', 'ip.proto', 'ip.src', 'ip.dst', 'tcp.srcport', 'tcp.dstport',\n",
    "       'tcp.len', 'tcp.ack', 'tcp.flags.res', 'tcp.flags.ns', 'tcp.flags.cwr',\n",
    "       'tcp.flags.ecn', 'tcp.flags.urg', 'tcp.flags.ack', 'tcp.flags.push',\n",
    "       'tcp.flags.reset', 'tcp.flags.syn', 'tcp.flags.fin', 'tcp.window_size',\n",
    "       'tcp.time_delta','class']"
   ]
  },
  {
   "cell_type": "markdown",
   "metadata": {},
   "source": [
    "<h4>Removing unnecessary columns</h4>"
   ]
  },
  {
   "cell_type": "code",
   "execution_count": 7,
   "metadata": {
    "colab": {},
    "colab_type": "code",
    "id": "13n5FKSJj4Fn"
   },
   "outputs": [],
   "source": [
    "def dropCol(data_normal,data_attack):\n",
    "    data_normal=data_normal.drop(['ip.src', 'ip.dst','frame.protocols'],axis=1) \n",
    "    try:\n",
    "        data_attack=data_attack.drop(['ip.src', 'ip.dst','frame.protocols'],axis=1)\n",
    "    except:\n",
    "        data_attack = data_attack\n",
    "    return data_normal, data_attack"
   ]
  },
  {
   "cell_type": "markdown",
   "metadata": {},
   "source": [
    "<h4>Required Features</h4>"
   ]
  },
  {
   "cell_type": "code",
   "execution_count": 8,
   "metadata": {
    "colab": {},
    "colab_type": "code",
    "id": "EdgboyqDj-AJ"
   },
   "outputs": [],
   "source": [
    "features=[ 'frame.len', 'ip.hdr_len',\n",
    "       'ip.len', 'ip.flags.rb', 'ip.flags.df', 'ip.flags.mf', 'ip.frag_offset',\n",
    "       'ip.ttl', 'ip.proto', 'tcp.srcport', 'tcp.dstport',\n",
    "       'tcp.len', 'tcp.ack', 'tcp.flags.res', 'tcp.flags.ns', 'tcp.flags.cwr',\n",
    "       'tcp.flags.ecn', 'tcp.flags.urg', 'tcp.flags.ack', 'tcp.flags.push',\n",
    "       'tcp.flags.reset', 'tcp.flags.syn', 'tcp.flags.fin', 'tcp.window_size',\n",
    "       'tcp.time_delta']"
   ]
  },
  {
   "cell_type": "markdown",
   "metadata": {},
   "source": [
    "<h4>Merging data from both attack and normal dataset</h4>"
   ]
  },
  {
   "cell_type": "code",
   "execution_count": 9,
   "metadata": {
    "colab": {},
    "colab_type": "code",
    "id": "7IxNpgX5kAMg"
   },
   "outputs": [],
   "source": [
    "def mergeDatasets(data_normal,data_attack):\n",
    "    X_normal= data_normal[features].values\n",
    "    Y_normal= data_normal['class']\n",
    "    try:\n",
    "        X_attack= data_attack[features].values\n",
    "        Y_attack= data_attack['class']\n",
    "        X=np.concatenate((X_normal,X_attack))\n",
    "        Y=np.concatenate((Y_normal,Y_attack))\n",
    "    except:\n",
    "        X = np.array(X_normal)\n",
    "        Y = np.array(Y_normal)\n",
    "    return X,Y"
   ]
  },
  {
   "cell_type": "markdown",
   "metadata": {},
   "source": [
    "<h4>Normalizing the training data</h4>"
   ]
  },
  {
   "cell_type": "code",
   "execution_count": 11,
   "metadata": {
    "colab": {},
    "colab_type": "code",
    "id": "b3xIr2rRkWMX"
   },
   "outputs": [],
   "source": [
    "def normalize(X):\n",
    "    scalar = StandardScaler(copy=True, with_mean=True, with_std=True)\n",
    "    scalar.fit(X)\n",
    "    X = scalar.transform(X)\n",
    "    return X"
   ]
  },
  {
   "cell_type": "markdown",
   "metadata": {},
   "source": [
    "<h4>Converting attack values as 0 and normal values as 1</h4>"
   ]
  },
  {
   "cell_type": "code",
   "execution_count": 12,
   "metadata": {
    "colab": {},
    "colab_type": "code",
    "id": "0U1VeOtEkYBX"
   },
   "outputs": [],
   "source": [
    "def convert(Y):\n",
    "  for i in range(0,len(Y)):\n",
    "    if Y[i] ==\"attack\":\n",
    "      Y[i]=0\n",
    "    else:\n",
    "      Y[i]=1\n",
    "  return Y\n",
    "    "
   ]
  },
  {
   "cell_type": "markdown",
   "metadata": {},
   "source": [
    "<h4>Transforming the input data into time based windows to train our model</h4>"
   ]
  },
  {
   "cell_type": "code",
   "execution_count": 13,
   "metadata": {
    "colab": {},
    "colab_type": "code",
    "id": "PEK_22RTkrvH"
   },
   "outputs": [],
   "source": [
    "def transform(X):\n",
    "    features = len(X[0])\n",
    "    samples = X.shape[0]\n",
    "    train_len = 25\n",
    "    input_len = samples - train_len\n",
    "    I = np.zeros((samples - train_len, train_len, features))\n",
    "\n",
    "    for i in range(input_len):\n",
    "        temp = np.zeros((train_len, features))\n",
    "        for j in range(i, i + train_len - 1):\n",
    "            temp[j-i] = X[j]\n",
    "        I[i] = temp\n",
    "    return I"
   ]
  },
  {
   "cell_type": "code",
   "execution_count": 14,
   "metadata": {},
   "outputs": [],
   "source": [
    "def preProcess(normal,attack):\n",
    "    normal, attack = dropCol(normal,attack)\n",
    "    X, Y = mergeDatasets(normal,attack)\n",
    "    X = normalize(X)\n",
    "    Y = convert(Y)\n",
    "    X = transform(X)\n",
    "    return X,Y\n",
    "    "
   ]
  },
  {
   "cell_type": "markdown",
   "metadata": {},
   "source": [
    "<h4>Processing and splitting the dataset into test and train</h4>"
   ]
  },
  {
   "cell_type": "code",
   "execution_count": 15,
   "metadata": {},
   "outputs": [],
   "source": [
    "X, Y = preProcess(data_normal,data_attack)"
   ]
  },
  {
   "cell_type": "code",
   "execution_count": 16,
   "metadata": {
    "colab": {},
    "colab_type": "code",
    "id": "1l5ft9AblBln"
   },
   "outputs": [],
   "source": [
    "# Splitting the data into test and test datas\n",
    "X_train, X_test, Y_train, Y_test = train_test_split(X, Y[25:100000], test_size = 0.2)"
   ]
  },
  {
   "cell_type": "code",
   "execution_count": 17,
   "metadata": {},
   "outputs": [
    {
     "data": {
      "text/plain": [
       "(79980, 25, 25)"
      ]
     },
     "execution_count": 17,
     "metadata": {},
     "output_type": "execute_result"
    }
   ],
   "source": [
    "X_train.shape"
   ]
  },
  {
   "cell_type": "code",
   "execution_count": 18,
   "metadata": {},
   "outputs": [],
   "source": [
    "X_train = np.asarray(X_train).astype(np.float32)\n",
    "Y_train = np.asarray(Y_train).astype(np.float32)\n",
    "X_test = np.asarray(X_test).astype(np.float32)\n",
    "Y_test = np.asarray(Y_test).astype(np.float32)"
   ]
  },
  {
   "cell_type": "markdown",
   "metadata": {},
   "source": [
    "<h2>Defining the models</h2>"
   ]
  },
  {
   "cell_type": "markdown",
   "metadata": {},
   "source": [
    "<ul>\n",
    "    <li><h3>Bi-directional RNN<h3></li>\n",
    "</ul>"
   ]
  },
  {
   "cell_type": "code",
   "execution_count": 71,
   "metadata": {
    "colab": {},
    "colab_type": "code",
    "id": "SzHoR1ewdODm"
   },
   "outputs": [],
   "source": [
    "def bidirectionalRNN():\n",
    "    model = Sequential()\n",
    "    \n",
    "    model.add(Bidirectional(LSTM(64, activation='tanh', kernel_regularizer='l2')))\n",
    "    model.add(Dense(128, activation = 'relu', kernel_regularizer='l2'))\n",
    "    model.add(Dense(1, activation = 'sigmoid', kernel_regularizer='l2'))\n",
    "    \n",
    "    model.compile(loss = 'binary_crossentropy', optimizer = 'adam', metrics = ['accuracy'])\n",
    "    \n",
    "    return model"
   ]
  },
  {
   "cell_type": "markdown",
   "metadata": {},
   "source": [
    "<ul>\n",
    "    <li><h3>Gated Recurrent Unit - GRU<h3></li>\n",
    "</ul>"
   ]
  },
  {
   "cell_type": "code",
   "execution_count": 72,
   "metadata": {},
   "outputs": [],
   "source": [
    "#defining the GRU model\n",
    "def gruModel():\n",
    "    model = Sequential()\n",
    "    model.add(GRU(64, input_shape=(X_train.shape[1], X_train.shape[2]), return_sequences=True))\n",
    "    model.add(GRU(32, return_sequences=True))\n",
    "    model.add(Flatten())\n",
    "    model.add(Dense(1, activation='sigmoid', kernel_regularizer='l2'))\n",
    "\n",
    "    model.compile(loss = 'binary_crossentropy', optimizer = 'adam', metrics = ['accuracy'])\n",
    "\n",
    "    return model"
   ]
  },
  {
   "cell_type": "markdown",
   "metadata": {},
   "source": [
    "<h2>Build and Train the model</h2>"
   ]
  },
  {
   "cell_type": "code",
   "execution_count": 84,
   "metadata": {},
   "outputs": [],
   "source": [
    "def buildModel(model_name):\n",
    "    if model_name == \"GRU\":\n",
    "        model = gruModel()\n",
    "    else: #bydefault BRNN\n",
    "        model = bidirectionalRNN() \n",
    "    # model.summary()\n",
    "    return model"
   ]
  },
  {
   "cell_type": "code",
   "execution_count": 74,
   "metadata": {},
   "outputs": [],
   "source": [
    "def trainModel(model):\n",
    "    history = model.fit(X_train, Y_train, epochs = 10,validation_split=0.2, verbose = 1)\n",
    "    return model,history"
   ]
  },
  {
   "cell_type": "markdown",
   "metadata": {},
   "source": [
    "<h2>Measuring the performance of the model</h2>"
   ]
  },
  {
   "cell_type": "markdown",
   "metadata": {},
   "source": [
    "<h3>Accuracy</h3>"
   ]
  },
  {
   "cell_type": "code",
   "execution_count": 75,
   "metadata": {
    "colab": {},
    "colab_type": "code",
    "id": "7dR8MHphk68X"
   },
   "outputs": [],
   "source": [
    "def plotAcc(history,model_name):\n",
    "    plt.plot(history.history['accuracy'])\n",
    "    plt.plot(history.history['val_accuracy'])\n",
    "    plt.title(model_name+' Model Accuracy')\n",
    "    plt.ylabel('Accuracy')\n",
    "    plt.xlabel('Epoch')\n",
    "    plt.legend(['Train', 'Test'], loc='lower right')\n",
    "    plt.savefig('./'+model_name+'/'+model_name+' Model Accuracy.png')\n",
    "    plt.show()"
   ]
  },
  {
   "cell_type": "markdown",
   "metadata": {},
   "source": [
    "<h3>Loss</h3>"
   ]
  },
  {
   "cell_type": "code",
   "execution_count": 76,
   "metadata": {
    "colab": {},
    "colab_type": "code",
    "id": "eKjMDYIOk72N"
   },
   "outputs": [],
   "source": [
    "def plotLoss(history,model_name):\n",
    "    plt.plot(history.history['loss'])\n",
    "    plt.plot(history.history['val_loss'])\n",
    "    plt.title(model_name+' Model Loss')\n",
    "    plt.ylabel('Loss')\n",
    "    plt.xlabel('Epoch')\n",
    "    plt.legend(['Train', 'Test'], loc='upper left')\n",
    "    plt.savefig('./'+model_name+'/'+model_name+' Model Loss.png')\n",
    "    plt.show()\n"
   ]
  },
  {
   "cell_type": "markdown",
   "metadata": {},
   "source": [
    "<h3>Concussion Matrix</h3>"
   ]
  },
  {
   "cell_type": "code",
   "execution_count": 77,
   "metadata": {},
   "outputs": [],
   "source": [
    "def calculate_metrics(predict, Y_test):\n",
    "  tp = 0\n",
    "  tn = 0\n",
    "  fp = 0\n",
    "  fn = 0\n",
    "  predictn = predict.flatten().round()\n",
    "  predictn = predictn.tolist()\n",
    "  Y_testn = Y_test.tolist()\n",
    "  for i in range(len(Y_testn)):\n",
    "    if predictn[i]==1 and Y_testn[i]==1:\n",
    "      tp+=1\n",
    "    elif predictn[i]==0 and Y_testn[i]==0:\n",
    "      tn+=1\n",
    "    elif predictn[i]==0 and Y_testn[i]==1:\n",
    "      fp+=1\n",
    "    elif predictn[i]==1 and Y_testn[i]==0:\n",
    "      fn+=1\n",
    "  return tp,fp,tn,fn"
   ]
  },
  {
   "cell_type": "code",
   "execution_count": 78,
   "metadata": {
    "colab": {
     "base_uri": "https://localhost:8080/",
     "height": 274
    },
    "colab_type": "code",
    "executionInfo": {
     "elapsed": 949,
     "status": "ok",
     "timestamp": 1557862375571,
     "user": {
      "displayName": "Mohammed Musthafa",
      "photoUrl": "",
      "userId": "16090542423726450957"
     },
     "user_tz": -330
    },
    "id": "0Ad719yjxPL2",
    "outputId": "972ee841-76cd-49f9-f0c7-6961170aae8c"
   },
   "outputs": [],
   "source": [
    "def plotGraph(tp,fp,tn,fn):\n",
    "    to_heat_map =[[tn,fp],[fn,tp]]\n",
    "    to_heat_map = pd.DataFrame(to_heat_map, index = [\"Attack\",\"Normal\"],columns = [\"Attack\",\"Normal\"])\n",
    "    return to_heat_map"
   ]
  },
  {
   "cell_type": "code",
   "execution_count": 38,
   "metadata": {},
   "outputs": [],
   "source": [
    "def predict_and_plot(X_test,Y_test,model):\n",
    "    predict = model.predict(X_test, verbose=1)\n",
    "    tp,fp,tn,fn = calculate_metrics(predict,Y_test)\n",
    "    to_heat_map = plotGraph(tp,fp,tn,fn)\n",
    "    ax = sns.heatmap(to_heat_map,annot=True, fmt=\"d\")\n",
    "    return ax\n",
    "    "
   ]
  },
  {
   "cell_type": "code",
   "execution_count": 85,
   "metadata": {},
   "outputs": [],
   "source": [
    "def getModel(model_name):\n",
    "    try:\n",
    "        model = load_model('./'+model_name+'/'+model_name+'.keras')\n",
    "    except:\n",
    "        model = buildModel(model_name)\n",
    "        model,history = trainModel(model)\n",
    "        model.save('./'+model_name+'/'+model_name+'_model.keras')\n",
    "        plotAcc(history,model_name)\n",
    "        plotLoss(history,model_name)\n",
    "    return model"
   ]
  },
  {
   "cell_type": "code",
   "execution_count": 88,
   "metadata": {
    "colab": {},
    "colab_type": "code",
    "id": "rMBI_fKCzQBN"
   },
   "outputs": [],
   "source": [
    "def evaluateModel(model_name,model,X_test,Y_test,name):    \n",
    "    ax = predict_and_plot(X_test,Y_test,model)\n",
    "    figure = ax.get_figure()    \n",
    "    figure.savefig('./'+model_name+'/'+model_name+'_confusion_matrix'+name+'.png', dpi=400)\n",
    "    scores = model.evaluate(X_test, Y_test, verbose=0)\n",
    "    print(\"%s: %.2f%%\" % (model.metrics_names[1], scores[1]*100))"
   ]
  },
  {
   "cell_type": "code",
   "execution_count": 86,
   "metadata": {},
   "outputs": [],
   "source": [
    "model_name = \"BRNN\""
   ]
  },
  {
   "cell_type": "code",
   "execution_count": 87,
   "metadata": {},
   "outputs": [
    {
     "name": "stdout",
     "output_type": "stream",
     "text": [
      "Epoch 1/10\n",
      "2000/2000 [==============================] - 41s 17ms/step - loss: 0.2936 - accuracy: 0.9352 - val_loss: 0.2104 - val_accuracy: 0.9380\n",
      "Epoch 2/10\n",
      "2000/2000 [==============================] - 31s 15ms/step - loss: 0.1830 - accuracy: 0.9551 - val_loss: 0.1508 - val_accuracy: 0.9663\n",
      "Epoch 3/10\n",
      "2000/2000 [==============================] - 31s 15ms/step - loss: 0.1550 - accuracy: 0.9624 - val_loss: 0.1577 - val_accuracy: 0.9639\n",
      "Epoch 4/10\n",
      "2000/2000 [==============================] - 31s 15ms/step - loss: 0.1664 - accuracy: 0.9579 - val_loss: 0.1536 - val_accuracy: 0.9617\n",
      "Epoch 5/10\n",
      "2000/2000 [==============================] - 31s 16ms/step - loss: 0.1524 - accuracy: 0.9644 - val_loss: 0.1341 - val_accuracy: 0.9684\n",
      "Epoch 6/10\n",
      "2000/2000 [==============================] - 31s 15ms/step - loss: 0.1453 - accuracy: 0.9646 - val_loss: 0.1508 - val_accuracy: 0.9666\n",
      "Epoch 7/10\n",
      "2000/2000 [==============================] - 31s 15ms/step - loss: 0.1380 - accuracy: 0.9667 - val_loss: 0.1271 - val_accuracy: 0.9691\n",
      "Epoch 8/10\n",
      "2000/2000 [==============================] - 31s 15ms/step - loss: 0.1349 - accuracy: 0.9670 - val_loss: 0.1183 - val_accuracy: 0.9722\n",
      "Epoch 9/10\n",
      "2000/2000 [==============================] - 31s 16ms/step - loss: 0.1310 - accuracy: 0.9680 - val_loss: 0.1292 - val_accuracy: 0.9707\n",
      "Epoch 10/10\n",
      "2000/2000 [==============================] - 31s 15ms/step - loss: 0.1357 - accuracy: 0.9658 - val_loss: 0.1244 - val_accuracy: 0.9705\n"
     ]
    },
    {
     "data": {
      "image/png": "[encoded data removed]",
      "text/plain": [
       "<Figure size 640x480 with 1 Axes>"
      ]
     },
     "metadata": {},
     "output_type": "display_data"
    },
    {
     "data": {
      "image/png": "[encoded data removed]",
      "text/plain": [
       "<Figure size 640x480 with 1 Axes>"
      ]
     },
     "metadata": {},
     "output_type": "display_data"
    }
   ],
   "source": [
    "model = getModel(model_name)"
   ]
  },
  {
   "cell_type": "code",
   "execution_count": 89,
   "metadata": {
    "colab": {},
    "colab_type": "code",
    "id": "mdcKrPWEfE44"
   },
   "outputs": [
    {
     "name": "stdout",
     "output_type": "stream",
     "text": [
      "625/625 [==============================] - 5s 6ms/step\n",
      "accuracy: 96.91%\n"
     ]
    },
    {
     "data": {
      "image/png": "[encoded data removed]",
      "text/plain": [
       "<Figure size 640x480 with 2 Axes>"
      ]
     },
     "metadata": {},
     "output_type": "display_data"
    }
   ],
   "source": [
    "evaluateModel(model_name,model,X_test,Y_test,\"test\")"
   ]
  },
  {
   "cell_type": "markdown",
   "metadata": {},
   "source": [
    "<center><h1>Test on live data</h1></center>\n",
    "<p>Live packet is captured with the help of <b>Wireshark</b> and <b>Pyshark</b></p>\n",
    "<p>Packets are captured using <a href=\"./capturePacket.py\">capturePacket.py</a> </p>\n",
    "<p>The captured packets are stored in <a href=\"./packets.pcap\">packets.pcap</a> </p>\n",
    "<p>The pcap file is processed and required attributes are collected from the packet data using the <a href=\"./processPackets.py\">processPackets.py</a> and is stored in <a href=\"./packets.csv\">packets.csv</a></p>"
   ]
  },
  {
   "cell_type": "code",
   "execution_count": 90,
   "metadata": {},
   "outputs": [],
   "source": [
    "live_data = pd.read_csv('packets.csv')\n",
    "X_live, Y_live = preProcess(live_data,[])"
   ]
  },
  {
   "cell_type": "code",
   "execution_count": 91,
   "metadata": {},
   "outputs": [
    {
     "name": "stdout",
     "output_type": "stream",
     "text": [
      "(53, 25, 25) (78,)\n"
     ]
    }
   ],
   "source": [
    "print(X_live.shape, Y_live.shape)\n",
    "X_live = np.asarray(X_live).astype(np.float32)\n",
    "Y_live = np.asarray(Y_live).astype(np.float32)"
   ]
  },
  {
   "cell_type": "code",
   "execution_count": 92,
   "metadata": {},
   "outputs": [
    {
     "name": "stdout",
     "output_type": "stream",
     "text": [
      "2/2 [==============================] - 0s 8ms/step\n",
      "accuracy: 56.60%\n"
     ]
    },
    {
     "data": {
      "image/png": "[encoded data removed]",
      "text/plain": [
       "<Figure size 640x480 with 2 Axes>"
      ]
     },
     "metadata": {},
     "output_type": "display_data"
    }
   ],
   "source": [
    "evaluateModel(model_name,model,X_live,Y_live[:X_live.shape[0]],'live')"
   ]
  }
 ],
 "metadata": {
  "colab": {
   "collapsed_sections": [],
   "name": "brnn_classifier",
   "provenance": [],
   "version": "0.3.2"
  },
  "kernelspec": {
   "display_name": "Python 3",
   "language": "python",
   "name": "python3"
  },
  "language_info": {
   "codemirror_mode": {
    "name": "ipython",
    "version": 3
   },
   "file_extension": ".py",
   "mimetype": "text/x-python",
   "name": "python",
   "nbconvert_exporter": "python",
   "pygments_lexer": "ipython3",
   "version": "3.9.13"
  }
 },
 "nbformat": 4,
 "nbformat_minor": 1
}
